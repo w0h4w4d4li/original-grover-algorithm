{
 "cells": [
  {
   "cell_type": "code",
   "execution_count": 8,
   "id": "3325c859-cbd8-4faf-ad3f-33c9ef4ddb98",
   "metadata": {},
   "outputs": [],
   "source": [
    "import numpy as np\n",
    "import pennylane as q"
   ]
  },
  {
   "cell_type": "code",
   "execution_count": 9,
   "id": "efaaff95-f089-45c9-94d7-bcd7388a2f71",
   "metadata": {},
   "outputs": [],
   "source": [
    "def oracle(combo):\n",
    "    n_bits=len(combo)\n",
    "    for i, bit in enumerate(combo):\n",
    "        if bit == 0:\n",
    "            q.PauliX(wires=i)\n",
    "    q.ctrl(q.PauliX, control=list(range(n_bits-1)))(wires=[n_bits-1])\n",
    "    for i, bit in enumerate(combo):\n",
    "        if bit == 0:\n",
    "            q.PauliX(wires=i)\n",
    "\n",
    "def hadamard_transform(all_wires):\n",
    "    for wire in all_wires:\n",
    "        q.Hadamard(wires=wire)\n",
    "\n",
    "def diffusion(n_bits, all_wires):\n",
    "    hadamard_transform(all_wires)\n",
    "    for i in range(n_bits):\n",
    "        q.PauliX(wires=i)\n",
    "    q.ctrl(q.PauliX, control=list(range(n_bits-1)))(wires=[n_bits-1])\n",
    "    for i in range(n_bits):\n",
    "        q.PauliX(wires=i)\n",
    "    hadamard_transform(all_wires)\n",
    "\n",
    "def original_grover_iter(combo):\n",
    "    n_bits = len(combo)\n",
    "    G_steps=np.ceil((np.pi/4)*(np.sqrt(2**len(combo)))).astype(int)\n",
    "    all_wires = list(range(n_bits))\n",
    "    dev = q.device(\"default.qubit\", wires=n_bits, shots=1000)\n",
    "\n",
    "    @q.qnode(dev)\n",
    "    def inner_circuit():\n",
    "        hadamard_transform(all_wires)\n",
    "        for _ in range(G_steps):\n",
    "            oracle(combo)\n",
    "            diffusion(n_bits, all_wires)\n",
    "        return q.probs(wires=all_wires)\n",
    "\n",
    "    return inner_circuit()"
   ]
  },
  {
   "cell_type": "code",
   "execution_count": 12,
   "id": "74b454da-ec6d-496c-9498-011e10ad0ed0",
   "metadata": {},
   "outputs": [
    {
     "data": {
      "text/plain": [
       "array([0.126, 0.025, 0.14 , 0.033, 0.489, 0.032, 0.123, 0.032])"
      ]
     },
     "execution_count": 12,
     "metadata": {},
     "output_type": "execute_result"
    }
   ],
   "source": [
    "combo=[1,0,0]\n",
    "original_grover_iter(combo)"
   ]
  }
 ],
 "metadata": {
  "kernelspec": {
   "display_name": "Python 3 (ipykernel)",
   "language": "python",
   "name": "python3"
  },
  "language_info": {
   "codemirror_mode": {
    "name": "ipython",
    "version": 3
   },
   "file_extension": ".py",
   "mimetype": "text/x-python",
   "name": "python",
   "nbconvert_exporter": "python",
   "pygments_lexer": "ipython3",
   "version": "3.12.3"
  }
 },
 "nbformat": 4,
 "nbformat_minor": 5
}
