{
 "cells": [
  {
   "cell_type": "code",
   "execution_count": 1,
   "id": "3325c859-cbd8-4faf-ad3f-33c9ef4ddb98",
   "metadata": {},
   "outputs": [],
   "source": [
    "import numpy\n",
    "import pennylane as q"
   ]
  },
  {
   "cell_type": "code",
   "execution_count": null,
   "id": "efaaff95-f089-45c9-94d7-bcd7388a2f71",
   "metadata": {},
   "outputs": [],
   "source": [
    "n_bits = 5\n",
    "query_register = list(range(n_bits))\n",
    "aux = [n_bits]\n",
    "all_wires = query_register + aux\n",
    "dev = qml.device(\"default.qubit\", wires=all_wires)\n",
    "\n",
    "def oracle(combo):\n",
    "    qml.MultiControlledX(wires=all_wires, control_values=combo)"
   ]
  },
  {
   "cell_type": "code",
   "execution_count": null,
   "id": "74b454da-ec6d-496c-9498-011e10ad0ed0",
   "metadata": {},
   "outputs": [],
   "source": [
    "def hadamard_transform(my_wires):\n",
    "    for wire in my_wires:\n",
    "        qml.Hadamard(wires=wire)\n",
    "\n",
    "\n",
    "def diffusion():\n",
    "    hadamard_transform(query_register)\n",
    "    qml.MultiControlledX(\n",
    "        wires = query_register + aux,\n",
    "        control_values= [0] * len(query_register),\n",
    "    )\n",
    "    hadamard_transform(query_register)"
   ]
  },
  {
   "cell_type": "code",
   "execution_count": null,
   "id": "a0081f8d-67ed-40ef-93db-5cb457ac0b90",
   "metadata": {},
   "outputs": [],
   "source": [
    "@qml.qnode(dev)\n",
    "def grover_circuit(combo):\n",
    "    \n",
    "    qml.PauliX(wires=aux)\n",
    "    hadamard_transform(all_wires)\n",
    "\n",
    "    oracle(combo)\n",
    "    diffusion()\n",
    "\n",
    "    return qml.probs(wires=query_register)"
   ]
  }
 ],
 "metadata": {
  "kernelspec": {
   "display_name": "Python 3 (ipykernel)",
   "language": "python",
   "name": "python3"
  },
  "language_info": {
   "codemirror_mode": {
    "name": "ipython",
    "version": 3
   },
   "file_extension": ".py",
   "mimetype": "text/x-python",
   "name": "python",
   "nbconvert_exporter": "python",
   "pygments_lexer": "ipython3",
   "version": "3.12.3"
  }
 },
 "nbformat": 4,
 "nbformat_minor": 5
}
